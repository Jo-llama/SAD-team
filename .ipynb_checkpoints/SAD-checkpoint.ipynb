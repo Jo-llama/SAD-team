{
 "cells": [
  {
   "cell_type": "markdown",
   "id": "9b411376",
   "metadata": {},
   "source": [
    "# Statystyczna analiza danych"
   ]
  },
  {
   "cell_type": "markdown",
   "id": "8fd73e62",
   "metadata": {},
   "source": [
    "### 1. Wprowadzenie"
   ]
  },
  {
   "cell_type": "markdown",
   "id": "2986bffe",
   "metadata": {},
   "source": []
  },
  {
   "cell_type": "markdown",
   "id": "286ae4bd",
   "metadata": {},
   "source": [
    "### 2. Czyszczenie i porządkowanie danych"
   ]
  },
  {
   "cell_type": "markdown",
   "id": "0414a706",
   "metadata": {},
   "source": [
    "### 3. Wizualizacje "
   ]
  },
  {
   "cell_type": "markdown",
   "id": "e13de506",
   "metadata": {},
   "source": [
    "### 4. Analiza opisowa"
   ]
  },
  {
   "cell_type": "markdown",
   "id": "6eecb252",
   "metadata": {},
   "source": [
    "### 5. Wnioski"
   ]
  },
  {
   "cell_type": "markdown",
   "id": "5e773151",
   "metadata": {},
   "source": []
  }
 ],
 "metadata": {
  "kernelspec": {
   "display_name": "Python 3 (ipykernel)",
   "language": "python",
   "name": "python3"
  },
  "language_info": {
   "codemirror_mode": {
    "name": "ipython",
    "version": 3
   },
   "file_extension": ".py",
   "mimetype": "text/x-python",
   "name": "python",
   "nbconvert_exporter": "python",
   "pygments_lexer": "ipython3",
   "version": "3.10.6"
  },
  "toc": {
   "base_numbering": 1,
   "nav_menu": {},
   "number_sections": true,
   "sideBar": true,
   "skip_h1_title": false,
   "title_cell": "Table of Contents",
   "title_sidebar": "Contents",
   "toc_cell": false,
   "toc_position": {},
   "toc_section_display": true,
   "toc_window_display": false
  }
 },
 "nbformat": 4,
 "nbformat_minor": 5
}
